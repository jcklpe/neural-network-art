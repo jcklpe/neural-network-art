{
  "nbformat": 4,
  "nbformat_minor": 0,
  "metadata": {
    "colab": {
      "name": "pyanime4k",
      "provenance": [],
      "collapsed_sections": [],
      "authorship_tag": "ABX9TyPZdP0D3jl2fYnMGgP+miRB",
      "include_colab_link": true
    },
    "kernelspec": {
      "name": "python3",
      "display_name": "Python 3"
    }
  },
  "cells": [
    {
      "cell_type": "markdown",
      "metadata": {
        "id": "view-in-github",
        "colab_type": "text"
      },
      "source": [
        "<a href=\"https://colab.research.google.com/github/jcklpe/neural-network-art/blob/master/pyanime4k.ipynb\" target=\"_parent\"><img src=\"https://colab.research.google.com/assets/colab-badge.svg\" alt=\"Open In Colab\"/></a>"
      ]
    },
    {
      "cell_type": "markdown",
      "metadata": {
        "id": "hDWdwjDaBDjw",
        "colab_type": "text"
      },
      "source": [
        "# **pyanime4k**\n",
        "pyanime4k is a python implementation of [Anime4kCCP](https://github.com/TianZerL/Anime4KCPP). Anime4kCCP is an implementation of neural network research for uprezzing images and video. Specifically it was trained on anime, but it can be used for lots of stuff including photos, paintings, etc. \n",
        "\n",
        "I wanted to make a google colab set up so that I could use it in conjunction with other neural network projects for making art. \n",
        "\n",
        "For some reason a native python import of pynanime4k crashes colab runtimes so instead you have to run it as a script.py file using !python"
      ]
    },
    {
      "cell_type": "markdown",
      "metadata": {
        "id": "Z_1B0R-8Bwts",
        "colab_type": "text"
      },
      "source": [
        "### **Install pyanime4k using pip**\n"
      ]
    },
    {
      "cell_type": "code",
      "metadata": {
        "id": "MexbSy2g1rXg",
        "colab_type": "code",
        "colab": {}
      },
      "source": [
        "!pip install pyanime4k"
      ],
      "execution_count": null,
      "outputs": []
    },
    {
      "cell_type": "markdown",
      "metadata": {
        "id": "qs1zVXojB40r",
        "colab_type": "text"
      },
      "source": [
        "## **Upload an image to /content and set it's name to the testVar**\n",
        "If I were actually intending to use this script as a standalone I would abstract out some stuff more and allow stuff to be run as a batch process but this is just a demostration, so I'll keep it simple. "
      ]
    },
    {
      "cell_type": "code",
      "metadata": {
        "id": "Fmoa62cQCQQw",
        "colab_type": "code",
        "colab": {}
      },
      "source": [
        "testVar = '682.jpg'"
      ],
      "execution_count": null,
      "outputs": []
    },
    {
      "cell_type": "markdown",
      "metadata": {
        "id": "O2IcPEN2CR5w",
        "colab_type": "text"
      },
      "source": [
        "### **Define the contents of script.py using variables**"
      ]
    },
    {
      "cell_type": "code",
      "metadata": {
        "id": "uSpo5ks4CcO8",
        "colab_type": "code",
        "colab": {}
      },
      "source": [
        "importStatement = \"import pyanime4k, os, pathlib\\n\"\n",
        "imageStatement = f\"image = [ pathlib.Path('{testVar}') ] \\n\"\n",
        "scriptStatement = f\"pyanime4k.upscale_images(input_paths= f'{testVar}', output_path= pathlib.Path('/content/output'))\""
      ],
      "execution_count": null,
      "outputs": []
    },
    {
      "cell_type": "markdown",
      "metadata": {
        "id": "litWVE_vCbye",
        "colab_type": "text"
      },
      "source": [
        "### **Create and write the script.py contents using string interpolation**\n"
      ]
    },
    {
      "cell_type": "code",
      "metadata": {
        "id": "thoLbWZcChqG",
        "colab_type": "code",
        "colab": {}
      },
      "source": [
        "scriptFile= open(\"script.py\", \"w\")\n",
        "scriptFile.write(f\"{importStatement}{imageStatement}{scriptStatement}\")\n",
        "scriptFile.close()"
      ],
      "execution_count": null,
      "outputs": []
    },
    {
      "cell_type": "markdown",
      "metadata": {
        "id": "hnUGCHWyCjpo",
        "colab_type": "text"
      },
      "source": [
        "### **Run the script file from the bash CLI using !python**"
      ]
    },
    {
      "cell_type": "code",
      "metadata": {
        "id": "Qkbnwo1wCsBs",
        "colab_type": "code",
        "colab": {}
      },
      "source": [
        "!python script.py"
      ],
      "execution_count": null,
      "outputs": []
    }
  ]
}